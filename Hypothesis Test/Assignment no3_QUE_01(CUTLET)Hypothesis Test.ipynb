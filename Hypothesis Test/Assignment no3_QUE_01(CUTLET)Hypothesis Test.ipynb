{
 "cells": [
  {
   "cell_type": "code",
   "execution_count": 2,
   "id": "7ac7c7e2",
   "metadata": {},
   "outputs": [],
   "source": [
    "#import the libraries\n",
    "import pandas as pd\n",
    "import scipy \n",
    "import numpy as np\n",
    "from scipy import stats"
   ]
  },
  {
   "cell_type": "code",
   "execution_count": 3,
   "id": "c24122d0",
   "metadata": {},
   "outputs": [
    {
     "data": {
      "text/plain": [
       "'1.7.3'"
      ]
     },
     "execution_count": 3,
     "metadata": {},
     "output_type": "execute_result"
    }
   ],
   "source": [
    "scipy.__version__"
   ]
  },
  {
   "cell_type": "code",
   "execution_count": 4,
   "id": "8b766076",
   "metadata": {},
   "outputs": [
    {
     "name": "stdout",
     "output_type": "stream",
     "text": [
      " Volume in drive C has no label.\n",
      " Volume Serial Number is 4E28-3FB0\n",
      "\n",
      " Directory of C:\\Users\\HP\\Desktop\\Assignments\\assignment no.3(Hypothesis Test)\n",
      "\n",
      "12/26/2022  11:50 AM    <DIR>          .\n",
      "12/26/2022  11:50 AM    <DIR>          ..\n",
      "12/26/2022  11:39 AM    <DIR>          .ipynb_checkpoints\n",
      "12/26/2022  11:50 AM             1,244 Assignment no3_Hypothesis Test.ipynb\n",
      "12/26/2022  11:34 AM                87 BuyerRatio.csv\n",
      "12/26/2022  11:34 AM            13,423 Costomer+OrderForm.csv\n",
      "12/26/2022  11:34 AM               525 Cutlets.csv\n",
      "12/26/2022  11:34 AM            61,688 Hypothesis_Testing_Assignment.pptx\n",
      "12/26/2022  11:34 AM             3,487 LabTAT.csv\n",
      "               6 File(s)         80,454 bytes\n",
      "               3 Dir(s)  139,898,933,248 bytes free\n"
     ]
    }
   ],
   "source": [
    "ls"
   ]
  },
  {
   "cell_type": "code",
   "execution_count": 5,
   "id": "d3d15b48",
   "metadata": {},
   "outputs": [],
   "source": [
    "#reading the dataset\n",
    "df=pd.read_csv(\"Cutlets.csv\")"
   ]
  },
  {
   "cell_type": "code",
   "execution_count": 7,
   "id": "3a21de7f",
   "metadata": {},
   "outputs": [
    {
     "data": {
      "text/html": [
       "<div>\n",
       "<style scoped>\n",
       "    .dataframe tbody tr th:only-of-type {\n",
       "        vertical-align: middle;\n",
       "    }\n",
       "\n",
       "    .dataframe tbody tr th {\n",
       "        vertical-align: top;\n",
       "    }\n",
       "\n",
       "    .dataframe thead th {\n",
       "        text-align: right;\n",
       "    }\n",
       "</style>\n",
       "<table border=\"1\" class=\"dataframe\">\n",
       "  <thead>\n",
       "    <tr style=\"text-align: right;\">\n",
       "      <th></th>\n",
       "      <th>Unit A</th>\n",
       "      <th>Unit B</th>\n",
       "    </tr>\n",
       "  </thead>\n",
       "  <tbody>\n",
       "    <tr>\n",
       "      <th>0</th>\n",
       "      <td>6.8090</td>\n",
       "      <td>6.7703</td>\n",
       "    </tr>\n",
       "    <tr>\n",
       "      <th>1</th>\n",
       "      <td>6.4376</td>\n",
       "      <td>7.5093</td>\n",
       "    </tr>\n",
       "    <tr>\n",
       "      <th>2</th>\n",
       "      <td>6.9157</td>\n",
       "      <td>6.7300</td>\n",
       "    </tr>\n",
       "    <tr>\n",
       "      <th>3</th>\n",
       "      <td>7.3012</td>\n",
       "      <td>6.7878</td>\n",
       "    </tr>\n",
       "    <tr>\n",
       "      <th>4</th>\n",
       "      <td>7.4488</td>\n",
       "      <td>7.1522</td>\n",
       "    </tr>\n",
       "  </tbody>\n",
       "</table>\n",
       "</div>"
      ],
      "text/plain": [
       "   Unit A  Unit B\n",
       "0  6.8090  6.7703\n",
       "1  6.4376  7.5093\n",
       "2  6.9157  6.7300\n",
       "3  7.3012  6.7878\n",
       "4  7.4488  7.1522"
      ]
     },
     "execution_count": 7,
     "metadata": {},
     "output_type": "execute_result"
    }
   ],
   "source": [
    "df.head()"
   ]
  },
  {
   "cell_type": "markdown",
   "id": "fe1a132f",
   "metadata": {},
   "source": [
    "# Performing EDA"
   ]
  },
  {
   "cell_type": "code",
   "execution_count": 17,
   "id": "13e1adef",
   "metadata": {},
   "outputs": [
    {
     "name": "stdout",
     "output_type": "stream",
     "text": [
      "<class 'pandas.core.frame.DataFrame'>\n",
      "RangeIndex: 35 entries, 0 to 34\n",
      "Data columns (total 2 columns):\n",
      " #   Column  Non-Null Count  Dtype  \n",
      "---  ------  --------------  -----  \n",
      " 0   Unit A  35 non-null     float64\n",
      " 1   Unit B  35 non-null     float64\n",
      "dtypes: float64(2)\n",
      "memory usage: 688.0 bytes\n"
     ]
    }
   ],
   "source": [
    "df.info()"
   ]
  },
  {
   "cell_type": "code",
   "execution_count": 8,
   "id": "9e7c2972",
   "metadata": {},
   "outputs": [
    {
     "data": {
      "text/plain": [
       "Unit A    0\n",
       "Unit B    0\n",
       "dtype: int64"
      ]
     },
     "execution_count": 8,
     "metadata": {},
     "output_type": "execute_result"
    }
   ],
   "source": [
    "df.isna().sum()"
   ]
  },
  {
   "cell_type": "code",
   "execution_count": 15,
   "id": "66fed7b1",
   "metadata": {},
   "outputs": [
    {
     "data": {
      "text/plain": [
       "Unit A    35\n",
       "Unit B    35\n",
       "dtype: int64"
      ]
     },
     "execution_count": 15,
     "metadata": {},
     "output_type": "execute_result"
    }
   ],
   "source": [
    "df.count()"
   ]
  },
  {
   "cell_type": "code",
   "execution_count": 18,
   "id": "50299ea8",
   "metadata": {},
   "outputs": [
    {
     "data": {
      "text/plain": [
       "0"
      ]
     },
     "execution_count": 18,
     "metadata": {},
     "output_type": "execute_result"
    }
   ],
   "source": [
    "df.duplicated().sum()"
   ]
  },
  {
   "cell_type": "code",
   "execution_count": 19,
   "id": "6d786066",
   "metadata": {},
   "outputs": [],
   "source": [
    "# There is no null values so we can apply hypothesis testing\n",
    "# Now here, our null hypothesis is \"there is no difference in the diameter of both the samples\"\n",
    "# And alternate hypothesis is \"there is some difference between the diameter of both the samples\""
   ]
  },
  {
   "cell_type": "markdown",
   "id": "c265adc5",
   "metadata": {},
   "source": [
    "# Applying Test"
   ]
  },
  {
   "cell_type": "markdown",
   "id": "58e9aa71",
   "metadata": {},
   "source": [
    "# \n",
    "refer\n",
    "X=Unit A,\n",
    "refer\n",
    "Y=Unit B\n",
    "\n",
    "H0 (null hypothesis)-> X==Y\n",
    "\n",
    "H1(alternalte hypothesis) -> X!=Y"
   ]
  },
  {
   "cell_type": "code",
   "execution_count": 21,
   "id": "a8dd71cc",
   "metadata": {},
   "outputs": [
    {
     "data": {
      "text/plain": [
       "Index(['Unit A', 'Unit B'], dtype='object')"
      ]
     },
     "execution_count": 21,
     "metadata": {},
     "output_type": "execute_result"
    }
   ],
   "source": [
    "df.columns"
   ]
  },
  {
   "cell_type": "code",
   "execution_count": 22,
   "id": "c733dcb7",
   "metadata": {},
   "outputs": [],
   "source": [
    "X=df[\"Unit A\"]\n",
    "Y=df[\"Unit B\"]"
   ]
  },
  {
   "cell_type": "code",
   "execution_count": 24,
   "id": "25bd7f3e",
   "metadata": {},
   "outputs": [
    {
     "data": {
      "text/plain": [
       "0    6.8090\n",
       "1    6.4376\n",
       "2    6.9157\n",
       "3    7.3012\n",
       "4    7.4488\n",
       "Name: Unit A, dtype: float64"
      ]
     },
     "execution_count": 24,
     "metadata": {},
     "output_type": "execute_result"
    }
   ],
   "source": [
    "X.head()"
   ]
  },
  {
   "cell_type": "code",
   "execution_count": 25,
   "id": "1b735573",
   "metadata": {},
   "outputs": [
    {
     "data": {
      "text/plain": [
       "0    6.7703\n",
       "1    7.5093\n",
       "2    6.7300\n",
       "3    6.7878\n",
       "4    7.1522\n",
       "Name: Unit B, dtype: float64"
      ]
     },
     "execution_count": 25,
     "metadata": {},
     "output_type": "execute_result"
    }
   ],
   "source": [
    "Y.head()"
   ]
  },
  {
   "cell_type": "code",
   "execution_count": 39,
   "id": "b457256b",
   "metadata": {},
   "outputs": [
    {
     "data": {
      "text/plain": [
       "Ttest_indResult(statistic=0.7228688704678063, pvalue=0.4722394724599501)"
      ]
     },
     "execution_count": 39,
     "metadata": {},
     "output_type": "execute_result"
    }
   ],
   "source": [
    "stats.ttest_ind(X,Y,alternative=\"two-sided\")"
   ]
  },
  {
   "cell_type": "code",
   "execution_count": 34,
   "id": "cbfb8dfb",
   "metadata": {},
   "outputs": [],
   "source": [
    "#here our p_value is 0.4722394724599501 approx equal to 0.5"
   ]
  },
  {
   "cell_type": "code",
   "execution_count": 42,
   "id": "7ed280c3",
   "metadata": {},
   "outputs": [],
   "source": [
    "p_value=0.5"
   ]
  },
  {
   "cell_type": "code",
   "execution_count": 43,
   "id": "6b5e60f9",
   "metadata": {},
   "outputs": [
    {
     "name": "stdout",
     "output_type": "stream",
     "text": [
      "We will accept null hypothesis and rejects alternate hypothesis\n"
     ]
    }
   ],
   "source": [
    "# Hence\n",
    "if p_value > 0.05 :\n",
    "    print ('We will accept null hypothesis and rejects alternate hypothesis')\n",
    "else:\n",
    "    print ('We will accept alternate hypothesis')"
   ]
  },
  {
   "cell_type": "code",
   "execution_count": null,
   "id": "9bd03461",
   "metadata": {},
   "outputs": [],
   "source": []
  }
 ],
 "metadata": {
  "kernelspec": {
   "display_name": "Python 3 (ipykernel)",
   "language": "python",
   "name": "python3"
  },
  "language_info": {
   "codemirror_mode": {
    "name": "ipython",
    "version": 3
   },
   "file_extension": ".py",
   "mimetype": "text/x-python",
   "name": "python",
   "nbconvert_exporter": "python",
   "pygments_lexer": "ipython3",
   "version": "3.7.3"
  }
 },
 "nbformat": 4,
 "nbformat_minor": 5
}
