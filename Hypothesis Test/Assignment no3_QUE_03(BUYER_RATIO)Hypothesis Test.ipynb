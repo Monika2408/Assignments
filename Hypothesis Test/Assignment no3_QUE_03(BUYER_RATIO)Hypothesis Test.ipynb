{
 "cells": [
  {
   "cell_type": "code",
   "execution_count": 13,
   "id": "42da2866",
   "metadata": {},
   "outputs": [],
   "source": [
    "#import the libraries\n",
    "import pandas as pd\n",
    "import scipy \n",
    "import numpy as np\n",
    "from scipy import stats\n",
    "import math\n",
    "from scipy.stats import chi2_contingency\n",
    "from scipy.stats import chi2"
   ]
  },
  {
   "cell_type": "code",
   "execution_count": 2,
   "id": "6df7a614",
   "metadata": {},
   "outputs": [
    {
     "name": "stdout",
     "output_type": "stream",
     "text": [
      " Volume in drive C has no label.\n",
      " Volume Serial Number is 4E28-3FB0\n",
      "\n",
      " Directory of C:\\Users\\HP\\Desktop\\Assignments\\assignment no.3(Hypothesis Test)\n",
      "\n",
      "12/26/2022  12:29 PM    <DIR>          .\n",
      "12/26/2022  12:29 PM    <DIR>          ..\n",
      "12/26/2022  12:29 PM    <DIR>          .ipynb_checkpoints\n",
      "12/26/2022  12:28 PM                72 Assignment no3_(BUYER_RATIO)Hypothesis Test.ipynb\n",
      "12/26/2022  12:27 PM             9,967 Assignment no3_(CUTLET)Hypothesis Test.ipynb\n",
      "12/26/2022  12:27 PM            11,208 Assignment no3_(LABTAT)Hypothesis Test.ipynb\n",
      "12/26/2022  11:34 AM                87 BuyerRatio.csv\n",
      "12/26/2022  11:34 AM            13,423 Costomer+OrderForm.csv\n",
      "12/26/2022  11:34 AM               525 Cutlets.csv\n",
      "12/26/2022  11:34 AM            61,688 Hypothesis_Testing_Assignment.pptx\n",
      "12/26/2022  11:34 AM             3,487 LabTAT.csv\n",
      "               8 File(s)        100,457 bytes\n",
      "               3 Dir(s)  139,995,238,400 bytes free\n"
     ]
    }
   ],
   "source": [
    "ls"
   ]
  },
  {
   "cell_type": "code",
   "execution_count": 3,
   "id": "ef3055c0",
   "metadata": {},
   "outputs": [],
   "source": [
    "#reading the dataset\n",
    "df=pd.read_csv(\"BuyerRatio.csv\")"
   ]
  },
  {
   "cell_type": "code",
   "execution_count": 4,
   "id": "a2d80e5e",
   "metadata": {},
   "outputs": [
    {
     "data": {
      "text/html": [
       "<div>\n",
       "<style scoped>\n",
       "    .dataframe tbody tr th:only-of-type {\n",
       "        vertical-align: middle;\n",
       "    }\n",
       "\n",
       "    .dataframe tbody tr th {\n",
       "        vertical-align: top;\n",
       "    }\n",
       "\n",
       "    .dataframe thead th {\n",
       "        text-align: right;\n",
       "    }\n",
       "</style>\n",
       "<table border=\"1\" class=\"dataframe\">\n",
       "  <thead>\n",
       "    <tr style=\"text-align: right;\">\n",
       "      <th></th>\n",
       "      <th>Observed Values</th>\n",
       "      <th>East</th>\n",
       "      <th>West</th>\n",
       "      <th>North</th>\n",
       "      <th>South</th>\n",
       "    </tr>\n",
       "  </thead>\n",
       "  <tbody>\n",
       "    <tr>\n",
       "      <th>0</th>\n",
       "      <td>Males</td>\n",
       "      <td>50</td>\n",
       "      <td>142</td>\n",
       "      <td>131</td>\n",
       "      <td>70</td>\n",
       "    </tr>\n",
       "    <tr>\n",
       "      <th>1</th>\n",
       "      <td>Females</td>\n",
       "      <td>435</td>\n",
       "      <td>1523</td>\n",
       "      <td>1356</td>\n",
       "      <td>750</td>\n",
       "    </tr>\n",
       "  </tbody>\n",
       "</table>\n",
       "</div>"
      ],
      "text/plain": [
       "  Observed Values  East  West  North  South\n",
       "0           Males    50   142    131     70\n",
       "1         Females   435  1523   1356    750"
      ]
     },
     "execution_count": 4,
     "metadata": {},
     "output_type": "execute_result"
    }
   ],
   "source": [
    "df"
   ]
  },
  {
   "cell_type": "code",
   "execution_count": 5,
   "id": "a919f18a",
   "metadata": {},
   "outputs": [],
   "source": [
    "df=df.drop(['Observed Values'], axis=1)"
   ]
  },
  {
   "cell_type": "code",
   "execution_count": 6,
   "id": "a361661f",
   "metadata": {},
   "outputs": [
    {
     "data": {
      "text/html": [
       "<div>\n",
       "<style scoped>\n",
       "    .dataframe tbody tr th:only-of-type {\n",
       "        vertical-align: middle;\n",
       "    }\n",
       "\n",
       "    .dataframe tbody tr th {\n",
       "        vertical-align: top;\n",
       "    }\n",
       "\n",
       "    .dataframe thead th {\n",
       "        text-align: right;\n",
       "    }\n",
       "</style>\n",
       "<table border=\"1\" class=\"dataframe\">\n",
       "  <thead>\n",
       "    <tr style=\"text-align: right;\">\n",
       "      <th></th>\n",
       "      <th>East</th>\n",
       "      <th>West</th>\n",
       "      <th>North</th>\n",
       "      <th>South</th>\n",
       "    </tr>\n",
       "  </thead>\n",
       "  <tbody>\n",
       "    <tr>\n",
       "      <th>0</th>\n",
       "      <td>50</td>\n",
       "      <td>142</td>\n",
       "      <td>131</td>\n",
       "      <td>70</td>\n",
       "    </tr>\n",
       "    <tr>\n",
       "      <th>1</th>\n",
       "      <td>435</td>\n",
       "      <td>1523</td>\n",
       "      <td>1356</td>\n",
       "      <td>750</td>\n",
       "    </tr>\n",
       "  </tbody>\n",
       "</table>\n",
       "</div>"
      ],
      "text/plain": [
       "   East  West  North  South\n",
       "0    50   142    131     70\n",
       "1   435  1523   1356    750"
      ]
     },
     "execution_count": 6,
     "metadata": {},
     "output_type": "execute_result"
    }
   ],
   "source": [
    "df"
   ]
  },
  {
   "cell_type": "code",
   "execution_count": 7,
   "id": "18a11676",
   "metadata": {},
   "outputs": [],
   "source": [
    "males = df.iloc[0]\n",
    "females = df.iloc[1]"
   ]
  },
  {
   "cell_type": "code",
   "execution_count": 8,
   "id": "d989aba3",
   "metadata": {},
   "outputs": [
    {
     "data": {
      "text/plain": [
       "East      50\n",
       "West     142\n",
       "North    131\n",
       "South     70\n",
       "Name: 0, dtype: int64"
      ]
     },
     "execution_count": 8,
     "metadata": {},
     "output_type": "execute_result"
    }
   ],
   "source": [
    "males"
   ]
  },
  {
   "cell_type": "code",
   "execution_count": 9,
   "id": "4be4b97a",
   "metadata": {},
   "outputs": [
    {
     "data": {
      "text/plain": [
       "East      435\n",
       "West     1523\n",
       "North    1356\n",
       "South     750\n",
       "Name: 1, dtype: int64"
      ]
     },
     "execution_count": 9,
     "metadata": {},
     "output_type": "execute_result"
    }
   ],
   "source": [
    "females"
   ]
  },
  {
   "cell_type": "code",
   "execution_count": 10,
   "id": "11a0ecaf",
   "metadata": {},
   "outputs": [],
   "source": [
    "males = np.array(males)\n",
    "females = np.array(females)"
   ]
  },
  {
   "cell_type": "code",
   "execution_count": 11,
   "id": "44cd6e1b",
   "metadata": {},
   "outputs": [
    {
     "data": {
      "text/plain": [
       "array([[  50,  142,  131,   70],\n",
       "       [ 435, 1523, 1356,  750]], dtype=int64)"
      ]
     },
     "execution_count": 11,
     "metadata": {},
     "output_type": "execute_result"
    }
   ],
   "source": [
    "observed_values = np.array([males,females])\n",
    "observed_values"
   ]
  },
  {
   "cell_type": "markdown",
   "id": "c1f7579c",
   "metadata": {},
   "source": [
    "# Applying Test"
   ]
  },
  {
   "cell_type": "code",
   "execution_count": 14,
   "id": "b25bd9f7",
   "metadata": {},
   "outputs": [
    {
     "data": {
      "text/plain": [
       "(1.595945538661058,\n",
       " 0.6603094907091882,\n",
       " 3,\n",
       " array([[  42.76531299,  146.81287862,  131.11756787,   72.30424052],\n",
       "        [ 442.23468701, 1518.18712138, 1355.88243213,  747.69575948]]))"
      ]
     },
     "execution_count": 14,
     "metadata": {},
     "output_type": "execute_result"
    }
   ],
   "source": [
    "values = chi2_contingency(observed_values)\n",
    "values"
   ]
  },
  {
   "cell_type": "code",
   "execution_count": 16,
   "id": "8f742db5",
   "metadata": {},
   "outputs": [
    {
     "data": {
      "text/plain": [
       "0.6603094907091882"
      ]
     },
     "execution_count": 16,
     "metadata": {},
     "output_type": "execute_result"
    }
   ],
   "source": [
    "p_value=chi2_contingency(observed_values)[1]\n",
    "p_value"
   ]
  },
  {
   "cell_type": "code",
   "execution_count": 18,
   "id": "8647b520",
   "metadata": {},
   "outputs": [
    {
     "name": "stdout",
     "output_type": "stream",
     "text": [
      "H0 is accepted and Male and female buyers are similar across in region\n"
     ]
    }
   ],
   "source": [
    "if p_value<0.05:\n",
    "    print(\"H0 is rejected and there is no Male and female buyers are similar across in region\")\n",
    "else:\n",
    "    print(\"H0 is accepted and Male and female buyers are similar across in region\")"
   ]
  },
  {
   "cell_type": "code",
   "execution_count": null,
   "id": "e525dad6",
   "metadata": {},
   "outputs": [],
   "source": []
  }
 ],
 "metadata": {
  "kernelspec": {
   "display_name": "Python 3 (ipykernel)",
   "language": "python",
   "name": "python3"
  },
  "language_info": {
   "codemirror_mode": {
    "name": "ipython",
    "version": 3
   },
   "file_extension": ".py",
   "mimetype": "text/x-python",
   "name": "python",
   "nbconvert_exporter": "python",
   "pygments_lexer": "ipython3",
   "version": "3.7.3"
  }
 },
 "nbformat": 4,
 "nbformat_minor": 5
}
