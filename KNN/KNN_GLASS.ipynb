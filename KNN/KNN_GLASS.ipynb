{
 "cells": [
  {
   "cell_type": "code",
   "execution_count": 39,
   "metadata": {},
   "outputs": [],
   "source": [
    "#importing library\n",
    "from pandas import read_csv\n",
    "import numpy as np\n",
    "from sklearn.model_selection import KFold\n",
    "from sklearn.model_selection import cross_val_score\n",
    "from sklearn.neighbors import KNeighborsClassifier\n",
    "from sklearn.model_selection import train_test_split\n",
    "from sklearn.metrics import accuracy_score, classification_report \n",
    "import warnings\n",
    "warnings.filterwarnings(\"ignore\")"
   ]
  },
  {
   "cell_type": "code",
   "execution_count": 40,
   "metadata": {},
   "outputs": [
    {
     "data": {
      "text/html": [
       "<div>\n",
       "<style scoped>\n",
       "    .dataframe tbody tr th:only-of-type {\n",
       "        vertical-align: middle;\n",
       "    }\n",
       "\n",
       "    .dataframe tbody tr th {\n",
       "        vertical-align: top;\n",
       "    }\n",
       "\n",
       "    .dataframe thead th {\n",
       "        text-align: right;\n",
       "    }\n",
       "</style>\n",
       "<table border=\"1\" class=\"dataframe\">\n",
       "  <thead>\n",
       "    <tr style=\"text-align: right;\">\n",
       "      <th></th>\n",
       "      <th>RI</th>\n",
       "      <th>Na</th>\n",
       "      <th>Mg</th>\n",
       "      <th>Al</th>\n",
       "      <th>Si</th>\n",
       "      <th>K</th>\n",
       "      <th>Ca</th>\n",
       "      <th>Ba</th>\n",
       "      <th>Fe</th>\n",
       "      <th>Type</th>\n",
       "    </tr>\n",
       "  </thead>\n",
       "  <tbody>\n",
       "    <tr>\n",
       "      <th>0</th>\n",
       "      <td>1.52101</td>\n",
       "      <td>13.64</td>\n",
       "      <td>4.49</td>\n",
       "      <td>1.10</td>\n",
       "      <td>71.78</td>\n",
       "      <td>0.06</td>\n",
       "      <td>8.75</td>\n",
       "      <td>0.0</td>\n",
       "      <td>0.0</td>\n",
       "      <td>1</td>\n",
       "    </tr>\n",
       "    <tr>\n",
       "      <th>1</th>\n",
       "      <td>1.51761</td>\n",
       "      <td>13.89</td>\n",
       "      <td>3.60</td>\n",
       "      <td>1.36</td>\n",
       "      <td>72.73</td>\n",
       "      <td>0.48</td>\n",
       "      <td>7.83</td>\n",
       "      <td>0.0</td>\n",
       "      <td>0.0</td>\n",
       "      <td>1</td>\n",
       "    </tr>\n",
       "    <tr>\n",
       "      <th>2</th>\n",
       "      <td>1.51618</td>\n",
       "      <td>13.53</td>\n",
       "      <td>3.55</td>\n",
       "      <td>1.54</td>\n",
       "      <td>72.99</td>\n",
       "      <td>0.39</td>\n",
       "      <td>7.78</td>\n",
       "      <td>0.0</td>\n",
       "      <td>0.0</td>\n",
       "      <td>1</td>\n",
       "    </tr>\n",
       "    <tr>\n",
       "      <th>3</th>\n",
       "      <td>1.51766</td>\n",
       "      <td>13.21</td>\n",
       "      <td>3.69</td>\n",
       "      <td>1.29</td>\n",
       "      <td>72.61</td>\n",
       "      <td>0.57</td>\n",
       "      <td>8.22</td>\n",
       "      <td>0.0</td>\n",
       "      <td>0.0</td>\n",
       "      <td>1</td>\n",
       "    </tr>\n",
       "    <tr>\n",
       "      <th>4</th>\n",
       "      <td>1.51742</td>\n",
       "      <td>13.27</td>\n",
       "      <td>3.62</td>\n",
       "      <td>1.24</td>\n",
       "      <td>73.08</td>\n",
       "      <td>0.55</td>\n",
       "      <td>8.07</td>\n",
       "      <td>0.0</td>\n",
       "      <td>0.0</td>\n",
       "      <td>1</td>\n",
       "    </tr>\n",
       "  </tbody>\n",
       "</table>\n",
       "</div>"
      ],
      "text/plain": [
       "        RI     Na    Mg    Al     Si     K    Ca   Ba   Fe  Type\n",
       "0  1.52101  13.64  4.49  1.10  71.78  0.06  8.75  0.0  0.0     1\n",
       "1  1.51761  13.89  3.60  1.36  72.73  0.48  7.83  0.0  0.0     1\n",
       "2  1.51618  13.53  3.55  1.54  72.99  0.39  7.78  0.0  0.0     1\n",
       "3  1.51766  13.21  3.69  1.29  72.61  0.57  8.22  0.0  0.0     1\n",
       "4  1.51742  13.27  3.62  1.24  73.08  0.55  8.07  0.0  0.0     1"
      ]
     },
     "execution_count": 40,
     "metadata": {},
     "output_type": "execute_result"
    }
   ],
   "source": [
    "df=read_csv('glass.csv')\n",
    "df.head()\n"
   ]
  },
  {
   "cell_type": "code",
   "execution_count": 41,
   "metadata": {},
   "outputs": [
    {
     "data": {
      "text/plain": [
       "2    76\n",
       "1    70\n",
       "7    29\n",
       "3    17\n",
       "5    13\n",
       "6     9\n",
       "Name: Type, dtype: int64"
      ]
     },
     "execution_count": 41,
     "metadata": {},
     "output_type": "execute_result"
    }
   ],
   "source": [
    "df['Type'].value_counts()"
   ]
  },
  {
   "cell_type": "markdown",
   "metadata": {},
   "source": [
    "# EDA Data cleaning"
   ]
  },
  {
   "cell_type": "code",
   "execution_count": 42,
   "metadata": {},
   "outputs": [
    {
     "name": "stdout",
     "output_type": "stream",
     "text": [
      "<class 'pandas.core.frame.DataFrame'>\n",
      "RangeIndex: 214 entries, 0 to 213\n",
      "Data columns (total 10 columns):\n",
      " #   Column  Non-Null Count  Dtype  \n",
      "---  ------  --------------  -----  \n",
      " 0   RI      214 non-null    float64\n",
      " 1   Na      214 non-null    float64\n",
      " 2   Mg      214 non-null    float64\n",
      " 3   Al      214 non-null    float64\n",
      " 4   Si      214 non-null    float64\n",
      " 5   K       214 non-null    float64\n",
      " 6   Ca      214 non-null    float64\n",
      " 7   Ba      214 non-null    float64\n",
      " 8   Fe      214 non-null    float64\n",
      " 9   Type    214 non-null    int64  \n",
      "dtypes: float64(9), int64(1)\n",
      "memory usage: 16.8 KB\n"
     ]
    }
   ],
   "source": [
    "df.info()"
   ]
  },
  {
   "cell_type": "code",
   "execution_count": 43,
   "metadata": {},
   "outputs": [
    {
     "data": {
      "text/plain": [
       "1"
      ]
     },
     "execution_count": 43,
     "metadata": {},
     "output_type": "execute_result"
    }
   ],
   "source": [
    "df.duplicated().sum()"
   ]
  },
  {
   "cell_type": "code",
   "execution_count": 44,
   "metadata": {},
   "outputs": [
    {
     "name": "stdout",
     "output_type": "stream",
     "text": [
      "<class 'pandas.core.frame.DataFrame'>\n",
      "RangeIndex: 214 entries, 0 to 213\n",
      "Data columns (total 10 columns):\n",
      " #   Column  Non-Null Count  Dtype  \n",
      "---  ------  --------------  -----  \n",
      " 0   RI      214 non-null    float64\n",
      " 1   Na      214 non-null    float64\n",
      " 2   Mg      214 non-null    float64\n",
      " 3   Al      214 non-null    float64\n",
      " 4   Si      214 non-null    float64\n",
      " 5   K       214 non-null    float64\n",
      " 6   Ca      214 non-null    float64\n",
      " 7   Ba      214 non-null    float64\n",
      " 8   Fe      214 non-null    float64\n",
      " 9   Type    214 non-null    int64  \n",
      "dtypes: float64(9), int64(1)\n",
      "memory usage: 16.8 KB\n"
     ]
    }
   ],
   "source": [
    "df.info()"
   ]
  },
  {
   "cell_type": "markdown",
   "metadata": {},
   "source": [
    "# splitting the data"
   ]
  },
  {
   "cell_type": "code",
   "execution_count": 45,
   "metadata": {},
   "outputs": [],
   "source": [
    "array = df.values\n",
    "\n",
    "\n",
    "X = array[:, 0:-1]\n",
    "Y = array[:, -1]"
   ]
  },
  {
   "cell_type": "code",
   "execution_count": 46,
   "metadata": {},
   "outputs": [
    {
     "data": {
      "text/plain": [
       "array([[ 1.52101, 13.64   ,  4.49   , ...,  8.75   ,  0.     ,  0.     ],\n",
       "       [ 1.51761, 13.89   ,  3.6    , ...,  7.83   ,  0.     ,  0.     ],\n",
       "       [ 1.51618, 13.53   ,  3.55   , ...,  7.78   ,  0.     ,  0.     ],\n",
       "       ...,\n",
       "       [ 1.52065, 14.36   ,  0.     , ...,  8.44   ,  1.64   ,  0.     ],\n",
       "       [ 1.51651, 14.38   ,  0.     , ...,  8.48   ,  1.57   ,  0.     ],\n",
       "       [ 1.51711, 14.23   ,  0.     , ...,  8.62   ,  1.67   ,  0.     ]])"
      ]
     },
     "execution_count": 46,
     "metadata": {},
     "output_type": "execute_result"
    }
   ],
   "source": [
    "X"
   ]
  },
  {
   "cell_type": "code",
   "execution_count": 47,
   "metadata": {},
   "outputs": [
    {
     "data": {
      "text/plain": [
       "array([1., 1., 1., 1., 1., 1., 1., 1., 1., 1., 1., 1., 1., 1., 1., 1., 1.,\n",
       "       1., 1., 1., 1., 1., 1., 1., 1., 1., 1., 1., 1., 1., 1., 1., 1., 1.,\n",
       "       1., 1., 1., 1., 1., 1., 1., 1., 1., 1., 1., 1., 1., 1., 1., 1., 1.,\n",
       "       1., 1., 1., 1., 1., 1., 1., 1., 1., 1., 1., 1., 1., 1., 1., 1., 1.,\n",
       "       1., 1., 2., 2., 2., 2., 2., 2., 2., 2., 2., 2., 2., 2., 2., 2., 2.,\n",
       "       2., 2., 2., 2., 2., 2., 2., 2., 2., 2., 2., 2., 2., 2., 2., 2., 2.,\n",
       "       2., 2., 2., 2., 2., 2., 2., 2., 2., 2., 2., 2., 2., 2., 2., 2., 2.,\n",
       "       2., 2., 2., 2., 2., 2., 2., 2., 2., 2., 2., 2., 2., 2., 2., 2., 2.,\n",
       "       2., 2., 2., 2., 2., 2., 2., 2., 2., 2., 3., 3., 3., 3., 3., 3., 3.,\n",
       "       3., 3., 3., 3., 3., 3., 3., 3., 3., 3., 5., 5., 5., 5., 5., 5., 5.,\n",
       "       5., 5., 5., 5., 5., 5., 6., 6., 6., 6., 6., 6., 6., 6., 6., 7., 7.,\n",
       "       7., 7., 7., 7., 7., 7., 7., 7., 7., 7., 7., 7., 7., 7., 7., 7., 7.,\n",
       "       7., 7., 7., 7., 7., 7., 7., 7., 7., 7.])"
      ]
     },
     "execution_count": 47,
     "metadata": {},
     "output_type": "execute_result"
    }
   ],
   "source": [
    "Y"
   ]
  },
  {
   "cell_type": "markdown",
   "metadata": {},
   "source": [
    "# normalizing the data(scaling)"
   ]
  },
  {
   "cell_type": "code",
   "execution_count": 48,
   "metadata": {},
   "outputs": [],
   "source": [
    "X=(X-X.min(axis=0))/(X.max(axis=0)-X.min(axis=0))"
   ]
  },
  {
   "cell_type": "code",
   "execution_count": 49,
   "metadata": {},
   "outputs": [
    {
     "data": {
      "text/plain": [
       "array([[0.43283582, 0.43759398, 1.        , ..., 0.30855019, 0.        ,\n",
       "        0.        ],\n",
       "       [0.28358209, 0.47518797, 0.80178174, ..., 0.22304833, 0.        ,\n",
       "        0.        ],\n",
       "       [0.22080773, 0.42105263, 0.79064588, ..., 0.21840149, 0.        ,\n",
       "        0.        ],\n",
       "       ...,\n",
       "       [0.41703248, 0.54586466, 0.        , ..., 0.27973978, 0.52063492,\n",
       "        0.        ],\n",
       "       [0.23529412, 0.54887218, 0.        , ..., 0.28345725, 0.4984127 ,\n",
       "        0.        ],\n",
       "       [0.26163301, 0.52631579, 0.        , ..., 0.2964684 , 0.53015873,\n",
       "        0.        ]])"
      ]
     },
     "execution_count": 49,
     "metadata": {},
     "output_type": "execute_result"
    }
   ],
   "source": [
    "X"
   ]
  },
  {
   "cell_type": "markdown",
   "metadata": {},
   "source": [
    "# dividing the data in two parts\n",
    "# Train Data\n",
    "# Test Data"
   ]
  },
  {
   "cell_type": "code",
   "execution_count": 50,
   "metadata": {},
   "outputs": [],
   "source": [
    "x_train,x_test,y_train,y_test=train_test_split(X,Y,test_size=0.3,random_state=19)"
   ]
  },
  {
   "cell_type": "code",
   "execution_count": 37,
   "metadata": {},
   "outputs": [
    {
     "name": "stdout",
     "output_type": "stream",
     "text": [
      "              precision    recall  f1-score   support\n",
      "\n",
      "         1.0       0.78      0.78      0.78        23\n",
      "         2.0       0.64      0.67      0.65        21\n",
      "         3.0       0.33      0.50      0.40         2\n",
      "         5.0       0.40      1.00      0.57         2\n",
      "         6.0       1.00      0.40      0.57         5\n",
      "         7.0       1.00      0.83      0.91        12\n",
      "\n",
      "    accuracy                           0.72        65\n",
      "   macro avg       0.69      0.70      0.65        65\n",
      "weighted avg       0.77      0.72      0.73        65\n",
      " 1\n",
      "              precision    recall  f1-score   support\n",
      "\n",
      "         1.0       0.72      0.78      0.75        23\n",
      "         2.0       0.67      0.67      0.67        21\n",
      "         3.0       1.00      0.50      0.67         2\n",
      "         5.0       0.20      0.50      0.29         2\n",
      "         6.0       1.00      0.40      0.57         5\n",
      "         7.0       0.91      0.83      0.87        12\n",
      "\n",
      "    accuracy                           0.71        65\n",
      "   macro avg       0.75      0.61      0.64        65\n",
      "weighted avg       0.75      0.71      0.71        65\n",
      " 3\n",
      "              precision    recall  f1-score   support\n",
      "\n",
      "         1.0       0.72      0.78      0.75        23\n",
      "         2.0       0.67      0.67      0.67        21\n",
      "         3.0       0.00      0.00      0.00         2\n",
      "         5.0       0.25      0.50      0.33         2\n",
      "         6.0       1.00      0.40      0.57         5\n",
      "         7.0       0.77      0.83      0.80        12\n",
      "\n",
      "    accuracy                           0.69        65\n",
      "   macro avg       0.57      0.53      0.52        65\n",
      "weighted avg       0.70      0.69      0.68        65\n",
      " 5\n",
      "              precision    recall  f1-score   support\n",
      "\n",
      "         1.0       0.67      0.78      0.72        23\n",
      "         2.0       0.67      0.67      0.67        21\n",
      "         3.0       0.00      0.00      0.00         2\n",
      "         5.0       0.00      0.00      0.00         2\n",
      "         6.0       1.00      0.20      0.33         5\n",
      "         7.0       0.77      0.83      0.80        12\n",
      "\n",
      "    accuracy                           0.66        65\n",
      "   macro avg       0.52      0.41      0.42        65\n",
      "weighted avg       0.67      0.66      0.64        65\n",
      " 7\n",
      "              precision    recall  f1-score   support\n",
      "\n",
      "         1.0       0.68      0.83      0.75        23\n",
      "         2.0       0.70      0.67      0.68        21\n",
      "         3.0       0.00      0.00      0.00         2\n",
      "         5.0       0.00      0.00      0.00         2\n",
      "         6.0       0.00      0.00      0.00         5\n",
      "         7.0       0.77      0.83      0.80        12\n",
      "\n",
      "    accuracy                           0.66        65\n",
      "   macro avg       0.36      0.39      0.37        65\n",
      "weighted avg       0.61      0.66      0.63        65\n",
      " 9\n",
      "              precision    recall  f1-score   support\n",
      "\n",
      "         1.0       0.66      0.83      0.73        23\n",
      "         2.0       0.67      0.67      0.67        21\n",
      "         3.0       0.00      0.00      0.00         2\n",
      "         5.0       0.00      0.00      0.00         2\n",
      "         6.0       0.00      0.00      0.00         5\n",
      "         7.0       0.71      0.83      0.77        12\n",
      "\n",
      "    accuracy                           0.66        65\n",
      "   macro avg       0.34      0.39      0.36        65\n",
      "weighted avg       0.58      0.66      0.62        65\n",
      " 11\n",
      "              precision    recall  f1-score   support\n",
      "\n",
      "         1.0       0.67      0.78      0.72        23\n",
      "         2.0       0.68      0.71      0.70        21\n",
      "         3.0       0.00      0.00      0.00         2\n",
      "         5.0       0.00      0.00      0.00         2\n",
      "         6.0       0.00      0.00      0.00         5\n",
      "         7.0       0.71      0.83      0.77        12\n",
      "\n",
      "    accuracy                           0.66        65\n",
      "   macro avg       0.34      0.39      0.36        65\n",
      "weighted avg       0.59      0.66      0.62        65\n",
      " 13\n",
      "              precision    recall  f1-score   support\n",
      "\n",
      "         1.0       0.71      0.87      0.78        23\n",
      "         2.0       0.76      0.76      0.76        21\n",
      "         3.0       0.00      0.00      0.00         2\n",
      "         5.0       0.00      0.00      0.00         2\n",
      "         6.0       0.00      0.00      0.00         5\n",
      "         7.0       0.67      0.83      0.74        12\n",
      "\n",
      "    accuracy                           0.71        65\n",
      "   macro avg       0.36      0.41      0.38        65\n",
      "weighted avg       0.62      0.71      0.66        65\n",
      " 15\n",
      "              precision    recall  f1-score   support\n",
      "\n",
      "         1.0       0.72      0.91      0.81        23\n",
      "         2.0       0.80      0.76      0.78        21\n",
      "         3.0       0.00      0.00      0.00         2\n",
      "         5.0       0.00      0.00      0.00         2\n",
      "         6.0       0.00      0.00      0.00         5\n",
      "         7.0       0.67      0.83      0.74        12\n",
      "\n",
      "    accuracy                           0.72        65\n",
      "   macro avg       0.37      0.42      0.39        65\n",
      "weighted avg       0.64      0.72      0.67        65\n",
      " 17\n",
      "              precision    recall  f1-score   support\n",
      "\n",
      "         1.0       0.70      0.83      0.76        23\n",
      "         2.0       0.73      0.76      0.74        21\n",
      "         3.0       0.00      0.00      0.00         2\n",
      "         5.0       0.00      0.00      0.00         2\n",
      "         6.0       0.00      0.00      0.00         5\n",
      "         7.0       0.67      0.83      0.74        12\n",
      "\n",
      "    accuracy                           0.69        65\n",
      "   macro avg       0.35      0.40      0.37        65\n",
      "weighted avg       0.61      0.69      0.65        65\n",
      " 19\n",
      "              precision    recall  f1-score   support\n",
      "\n",
      "         1.0       0.61      0.74      0.67        23\n",
      "         2.0       0.67      0.67      0.67        21\n",
      "         3.0       0.00      0.00      0.00         2\n",
      "         5.0       0.00      0.00      0.00         2\n",
      "         6.0       0.00      0.00      0.00         5\n",
      "         7.0       0.67      0.83      0.74        12\n",
      "\n",
      "    accuracy                           0.63        65\n",
      "   macro avg       0.32      0.37      0.35        65\n",
      "weighted avg       0.55      0.63      0.59        65\n",
      " 21\n",
      "              precision    recall  f1-score   support\n",
      "\n",
      "         1.0       0.62      0.78      0.69        23\n",
      "         2.0       0.65      0.62      0.63        21\n",
      "         3.0       0.00      0.00      0.00         2\n",
      "         5.0       0.00      0.00      0.00         2\n",
      "         6.0       0.00      0.00      0.00         5\n",
      "         7.0       0.67      0.83      0.74        12\n",
      "\n",
      "    accuracy                           0.63        65\n",
      "   macro avg       0.32      0.37      0.34        65\n",
      "weighted avg       0.55      0.63      0.59        65\n",
      " 23\n",
      "              precision    recall  f1-score   support\n",
      "\n",
      "         1.0       0.56      0.78      0.65        23\n",
      "         2.0       0.59      0.48      0.53        21\n",
      "         3.0       0.00      0.00      0.00         2\n",
      "         5.0       0.00      0.00      0.00         2\n",
      "         6.0       0.00      0.00      0.00         5\n",
      "         7.0       0.67      0.83      0.74        12\n",
      "\n",
      "    accuracy                           0.58        65\n",
      "   macro avg       0.30      0.35      0.32        65\n",
      "weighted avg       0.51      0.58      0.54        65\n",
      " 25\n",
      "              precision    recall  f1-score   support\n",
      "\n",
      "         1.0       0.58      0.78      0.67        23\n",
      "         2.0       0.59      0.48      0.53        21\n",
      "         3.0       0.00      0.00      0.00         2\n",
      "         5.0       0.00      0.00      0.00         2\n",
      "         6.0       0.00      0.00      0.00         5\n",
      "         7.0       0.62      0.83      0.71        12\n",
      "\n",
      "    accuracy                           0.58        65\n",
      "   macro avg       0.30      0.35      0.32        65\n",
      "weighted avg       0.51      0.58      0.54        65\n",
      " 27\n",
      "              precision    recall  f1-score   support\n",
      "\n",
      "         1.0       0.64      0.78      0.71        23\n",
      "         2.0       0.63      0.57      0.60        21\n",
      "         3.0       0.00      0.00      0.00         2\n",
      "         5.0       0.00      0.00      0.00         2\n",
      "         6.0       0.00      0.00      0.00         5\n",
      "         7.0       0.59      0.83      0.69        12\n",
      "\n",
      "    accuracy                           0.62        65\n",
      "   macro avg       0.31      0.36      0.33        65\n",
      "weighted avg       0.54      0.62      0.57        65\n",
      " 29\n",
      "              precision    recall  f1-score   support\n",
      "\n",
      "         1.0       0.61      0.83      0.70        23\n",
      "         2.0       0.56      0.43      0.49        21\n",
      "         3.0       0.00      0.00      0.00         2\n",
      "         5.0       0.00      0.00      0.00         2\n",
      "         6.0       0.00      0.00      0.00         5\n",
      "         7.0       0.56      0.83      0.67        12\n",
      "\n",
      "    accuracy                           0.58        65\n",
      "   macro avg       0.29      0.35      0.31        65\n",
      "weighted avg       0.50      0.58      0.53        65\n",
      " 31\n",
      "              precision    recall  f1-score   support\n",
      "\n",
      "         1.0       0.67      0.78      0.72        23\n",
      "         2.0       0.60      0.57      0.59        21\n",
      "         3.0       0.00      0.00      0.00         2\n",
      "         5.0       0.00      0.00      0.00         2\n",
      "         6.0       0.00      0.00      0.00         5\n",
      "         7.0       0.56      0.83      0.67        12\n",
      "\n",
      "    accuracy                           0.62        65\n",
      "   macro avg       0.30      0.36      0.33        65\n",
      "weighted avg       0.53      0.62      0.57        65\n",
      " 33\n",
      "              precision    recall  f1-score   support\n",
      "\n",
      "         1.0       0.58      0.61      0.60        23\n",
      "         2.0       0.48      0.52      0.50        21\n",
      "         3.0       0.00      0.00      0.00         2\n",
      "         5.0       0.00      0.00      0.00         2\n",
      "         6.0       0.00      0.00      0.00         5\n",
      "         7.0       0.56      0.83      0.67        12\n",
      "\n",
      "    accuracy                           0.54        65\n",
      "   macro avg       0.27      0.33      0.29        65\n",
      "weighted avg       0.46      0.54      0.50        65\n",
      " 35\n",
      "              precision    recall  f1-score   support\n",
      "\n",
      "         1.0       0.62      0.57      0.59        23\n",
      "         2.0       0.50      0.62      0.55        21\n",
      "         3.0       0.00      0.00      0.00         2\n",
      "         5.0       0.00      0.00      0.00         2\n",
      "         6.0       0.00      0.00      0.00         5\n",
      "         7.0       0.56      0.83      0.67        12\n",
      "\n",
      "    accuracy                           0.55        65\n",
      "   macro avg       0.28      0.34      0.30        65\n",
      "weighted avg       0.48      0.55      0.51        65\n",
      " 37\n",
      "              precision    recall  f1-score   support\n",
      "\n",
      "         1.0       0.58      0.61      0.60        23\n",
      "         2.0       0.48      0.52      0.50        21\n",
      "         3.0       0.00      0.00      0.00         2\n",
      "         5.0       0.00      0.00      0.00         2\n",
      "         6.0       0.00      0.00      0.00         5\n",
      "         7.0       0.56      0.83      0.67        12\n",
      "\n",
      "    accuracy                           0.54        65\n",
      "   macro avg       0.27      0.33      0.29        65\n",
      "weighted avg       0.46      0.54      0.50        65\n",
      " 39\n"
     ]
    },
    {
     "name": "stdout",
     "output_type": "stream",
     "text": [
      "              precision    recall  f1-score   support\n",
      "\n",
      "         1.0       0.64      0.61      0.62        23\n",
      "         2.0       0.54      0.67      0.60        21\n",
      "         3.0       0.00      0.00      0.00         2\n",
      "         5.0       0.00      0.00      0.00         2\n",
      "         6.0       0.00      0.00      0.00         5\n",
      "         7.0       0.59      0.83      0.69        12\n",
      "\n",
      "    accuracy                           0.58        65\n",
      "   macro avg       0.29      0.35      0.32        65\n",
      "weighted avg       0.51      0.58      0.54        65\n",
      " 41\n",
      "              precision    recall  f1-score   support\n",
      "\n",
      "         1.0       0.64      0.61      0.62        23\n",
      "         2.0       0.48      0.57      0.52        21\n",
      "         3.0       0.00      0.00      0.00         2\n",
      "         5.0       0.00      0.00      0.00         2\n",
      "         6.0       0.00      0.00      0.00         5\n",
      "         7.0       0.56      0.83      0.67        12\n",
      "\n",
      "    accuracy                           0.55        65\n",
      "   macro avg       0.28      0.34      0.30        65\n",
      "weighted avg       0.48      0.55      0.51        65\n",
      " 43\n",
      "              precision    recall  f1-score   support\n",
      "\n",
      "         1.0       0.67      0.43      0.53        23\n",
      "         2.0       0.50      0.81      0.62        21\n",
      "         3.0       0.00      0.00      0.00         2\n",
      "         5.0       0.00      0.00      0.00         2\n",
      "         6.0       0.00      0.00      0.00         5\n",
      "         7.0       0.62      0.83      0.71        12\n",
      "\n",
      "    accuracy                           0.57        65\n",
      "   macro avg       0.30      0.35      0.31        65\n",
      "weighted avg       0.51      0.57      0.52        65\n",
      " 45\n",
      "              precision    recall  f1-score   support\n",
      "\n",
      "         1.0       0.60      0.39      0.47        23\n",
      "         2.0       0.47      0.76      0.58        21\n",
      "         3.0       0.00      0.00      0.00         2\n",
      "         5.0       0.00      0.00      0.00         2\n",
      "         6.0       0.00      0.00      0.00         5\n",
      "         7.0       0.62      0.83      0.71        12\n",
      "\n",
      "    accuracy                           0.54        65\n",
      "   macro avg       0.28      0.33      0.29        65\n",
      "weighted avg       0.48      0.54      0.49        65\n",
      " 47\n",
      "              precision    recall  f1-score   support\n",
      "\n",
      "         1.0       0.67      0.61      0.64        23\n",
      "         2.0       0.53      0.76      0.63        21\n",
      "         3.0       0.00      0.00      0.00         2\n",
      "         5.0       0.00      0.00      0.00         2\n",
      "         6.0       0.00      0.00      0.00         5\n",
      "         7.0       0.71      0.83      0.77        12\n",
      "\n",
      "    accuracy                           0.62        65\n",
      "   macro avg       0.32      0.37      0.34        65\n",
      "weighted avg       0.54      0.62      0.57        65\n",
      " 49\n",
      "              precision    recall  f1-score   support\n",
      "\n",
      "         1.0       0.64      0.61      0.62        23\n",
      "         2.0       0.50      0.71      0.59        21\n",
      "         3.0       0.00      0.00      0.00         2\n",
      "         5.0       0.00      0.00      0.00         2\n",
      "         6.0       0.00      0.00      0.00         5\n",
      "         7.0       0.77      0.83      0.80        12\n",
      "\n",
      "    accuracy                           0.60        65\n",
      "   macro avg       0.32      0.36      0.34        65\n",
      "weighted avg       0.53      0.60      0.56        65\n",
      " 51\n",
      "              precision    recall  f1-score   support\n",
      "\n",
      "         1.0       0.71      0.65      0.68        23\n",
      "         2.0       0.48      0.76      0.59        21\n",
      "         3.0       0.00      0.00      0.00         2\n",
      "         5.0       0.00      0.00      0.00         2\n",
      "         6.0       0.00      0.00      0.00         5\n",
      "         7.0       0.82      0.75      0.78        12\n",
      "\n",
      "    accuracy                           0.62        65\n",
      "   macro avg       0.34      0.36      0.34        65\n",
      "weighted avg       0.56      0.62      0.58        65\n",
      " 53\n"
     ]
    }
   ],
   "source": [
    "n_neighbors=[2*i+1 for i in range(0,27)]\n",
    "for n in n_neighbors:\n",
    "    model = KNeighborsClassifier(n_neighbors=n)\n",
    "    model.fit(x_train,y_train)\n",
    "    pred=model.predict(x_test)\n",
    "    accuracy_score(y_test,pred)\n",
    "    \n",
    "    print(classification_report(y_test,pred),n)"
   ]
  },
  {
   "cell_type": "markdown",
   "metadata": {},
   "source": [
    "# Visualizing CV result"
   ]
  },
  {
   "cell_type": "code",
   "execution_count": 51,
   "metadata": {},
   "outputs": [
    {
     "data": {
      "image/png": "[encoded data removed]",
      "text/plain": [
       "<Figure size 432x288 with 1 Axes>"
      ]
     },
     "metadata": {
      "needs_background": "light"
     },
     "output_type": "display_data"
    }
   ],
   "source": [
    "import matplotlib.pyplot as plt \n",
    "%matplotlib inline\n",
    "# choose k between 1 to 39\n",
    "k_range = [2*i+1 for i in range(0,20)]\n",
    "k_scores = []\n",
    "# use iteration to caclulator different k in models, then return the average accuracy based on the cross validation\n",
    "for k in k_range:\n",
    "    knn = KNeighborsClassifier(n_neighbors=k)\n",
    "    scores = cross_val_score(knn,x_train , y_train,cv=10)\n",
    "    k_scores.append(scores.mean())\n",
    "# plot to see clearly\n",
    "plt.bar(k_range, k_scores)\n",
    "plt.plot(k_range, k_scores,color=\"red\")\n",
    "\n",
    "plt.xlabel('Value of K for KNN')\n",
    "plt.ylabel('Cross-Validated Accuracy')\n",
    "plt.xticks(k_range)\n",
    "plt.ylim(0.5,1)\n",
    "plt.show()"
   ]
  },
  {
   "cell_type": "code",
   "execution_count": 52,
   "metadata": {},
   "outputs": [
    {
     "data": {
      "text/plain": [
       "0"
      ]
     },
     "execution_count": 52,
     "metadata": {},
     "output_type": "execute_result"
    }
   ],
   "source": [
    "np.argmax(k_scores)"
   ]
  },
  {
   "cell_type": "code",
   "execution_count": 53,
   "metadata": {},
   "outputs": [
    {
     "data": {
      "text/plain": [
       "3"
      ]
     },
     "execution_count": 53,
     "metadata": {},
     "output_type": "execute_result"
    }
   ],
   "source": [
    "k_range[1]"
   ]
  },
  {
   "cell_type": "code",
   "execution_count": 54,
   "metadata": {},
   "outputs": [
    {
     "data": {
      "text/plain": [
       "0.6180952380952381"
      ]
     },
     "execution_count": 54,
     "metadata": {},
     "output_type": "execute_result"
    }
   ],
   "source": [
    "k_scores[3]"
   ]
  },
  {
   "cell_type": "markdown",
   "metadata": {},
   "source": [
    "# now build the model"
   ]
  },
  {
   "cell_type": "code",
   "execution_count": 55,
   "metadata": {},
   "outputs": [],
   "source": [
    "model = KNeighborsClassifier(n_neighbors=3)\n",
    "model.fit(x_train,y_train)\n",
    "pred=model.predict(x_test)"
   ]
  },
  {
   "cell_type": "markdown",
   "metadata": {},
   "source": [
    "# Testing model with Test Data"
   ]
  },
  {
   "cell_type": "code",
   "execution_count": 56,
   "metadata": {},
   "outputs": [
    {
     "data": {
      "text/plain": [
       "0.676923076923077"
      ]
     },
     "execution_count": 56,
     "metadata": {},
     "output_type": "execute_result"
    }
   ],
   "source": [
    "accuracy_score(pred,y_test)"
   ]
  },
  {
   "cell_type": "markdown",
   "metadata": {},
   "source": [
    "# Classification Report"
   ]
  },
  {
   "cell_type": "code",
   "execution_count": 57,
   "metadata": {},
   "outputs": [
    {
     "name": "stdout",
     "output_type": "stream",
     "text": [
      "              precision    recall  f1-score   support\n",
      "\n",
      "         1.0       0.60      0.90      0.72        20\n",
      "         2.0       0.72      0.59      0.65        22\n",
      "         3.0       0.00      0.00      0.00         4\n",
      "         5.0       0.60      0.43      0.50         7\n",
      "         6.0       1.00      0.50      0.67         4\n",
      "         7.0       0.89      1.00      0.94         8\n",
      "\n",
      "    accuracy                           0.68        65\n",
      "   macro avg       0.64      0.57      0.58        65\n",
      "weighted avg       0.66      0.68      0.65        65\n",
      "\n"
     ]
    }
   ],
   "source": [
    "from sklearn.metrics import classification_report\n",
    "\n",
    "print(classification_report(y_test, pred))"
   ]
  },
  {
   "cell_type": "code",
   "execution_count": null,
   "metadata": {},
   "outputs": [],
   "source": []
  }
 ],
 "metadata": {
  "kernelspec": {
   "display_name": "Python 3 (ipykernel)",
   "language": "python",
   "name": "python3"
  },
  "language_info": {
   "codemirror_mode": {
    "name": "ipython",
    "version": 3
   },
   "file_extension": ".py",
   "mimetype": "text/x-python",
   "name": "python",
   "nbconvert_exporter": "python",
   "pygments_lexer": "ipython3",
   "version": "3.7.3"
  }
 },
 "nbformat": 4,
 "nbformat_minor": 2
}
